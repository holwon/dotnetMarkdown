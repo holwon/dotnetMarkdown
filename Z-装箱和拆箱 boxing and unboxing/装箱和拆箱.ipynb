{
 "cells": [
  {
   "attachments": {},
   "cell_type": "markdown",
   "metadata": {
    "dotnet_interactive": {
     "language": "csharp"
    },
    "polyglot_notebook": {
     "kernelName": "csharp"
    }
   },
   "source": [
    "# 装箱和拆箱\n",
    "\n",
    "这里先定义个结构体 `Entity`"
   ]
  },
  {
   "cell_type": "code",
   "execution_count": 1,
   "metadata": {
    "dotnet_interactive": {
     "language": "csharp"
    },
    "polyglot_notebook": {
     "kernelName": "csharp"
    },
    "tags": [],
    "vscode": {
     "languageId": "polyglot-notebook"
    }
   },
   "outputs": [],
   "source": [
    "struct Entity{\n",
    "    public int X, Y;\n",
    "    \n",
    "    public Entity(int x,int y){\n",
    "        X = x; Y = y;\n",
    "    }\n",
    "\n",
    "    public override string ToString() => $\"{X},{Y}\";\n",
    "}"
   ]
  },
  {
   "attachments": {},
   "cell_type": "markdown",
   "metadata": {
    "dotnet_interactive": {
     "language": "csharp"
    },
    "polyglot_notebook": {
     "kernelName": "csharp"
    },
    "vscode": {
     "languageId": "polyglot-notebook"
    }
   },
   "source": [
    "创建 `Entity` 变量 A, B 并且赋值"
   ]
  },
  {
   "cell_type": "code",
   "execution_count": 2,
   "metadata": {
    "dotnet_interactive": {
     "language": "csharp"
    },
    "polyglot_notebook": {
     "kernelName": "csharp"
    },
    "vscode": {
     "languageId": "polyglot-notebook"
    }
   },
   "outputs": [],
   "source": [
    "Entity A = new(1, 2);\n",
    "Entity B = A;"
   ]
  },
  {
   "cell_type": "code",
   "execution_count": 3,
   "metadata": {
    "dotnet_interactive": {
     "language": "csharp"
    },
    "polyglot_notebook": {
     "kernelName": "csharp"
    },
    "vscode": {
     "languageId": "polyglot-notebook"
    }
   },
   "outputs": [],
   "source": [
    "// 改变 B 的值\n",
    "B.X = 666;"
   ]
  },
  {
   "cell_type": "code",
   "execution_count": 4,
   "metadata": {
    "dotnet_interactive": {
     "language": "csharp"
    },
    "polyglot_notebook": {
     "kernelName": "csharp"
    },
    "vscode": {
     "languageId": "polyglot-notebook"
    }
   },
   "outputs": [
    {
     "name": "stdout",
     "output_type": "stream",
     "text": [
      "1,2\n",
      "666,2\n"
     ]
    }
   ],
   "source": [
    "Console.WriteLine(A);\n",
    "Console.WriteLine(B);"
   ]
  },
  {
   "attachments": {},
   "cell_type": "markdown",
   "metadata": {
    "dotnet_interactive": {
     "language": "csharp"
    },
    "polyglot_notebook": {
     "kernelName": "csharp"
    }
   },
   "source": [
    "可以看到`A`的 X 和`B`的 X 是不一样的, 这就是值类型. 其会将自身的值真正传递."
   ]
  }
 ],
 "metadata": {
  "kernelspec": {
   "display_name": ".NET (C#)",
   "language": "C#",
   "name": ".net-csharp"
  },
  "polyglot_notebook": {
   "kernelInfo": {
    "defaultKernelName": "csharp",
    "items": [
     {
      "aliases": [
       "c#",
       "C#",
       "distinct"
      ],
      "languageName": "C#",
      "name": "csharp"
     },
     {
      "aliases": [
       "distinct"
      ],
      "name": ".NET"
     },
     {
      "aliases": [
       "f#",
       "F#",
       "distinct"
      ],
      "languageName": "F#",
      "name": "fsharp"
     },
     {
      "aliases": [
       "distinct"
      ],
      "languageName": "HTML",
      "name": "html"
     },
     {
      "aliases": [
       "distinct"
      ],
      "languageName": "KQL",
      "name": "kql"
     },
     {
      "aliases": [
       "distinct"
      ],
      "languageName": "Mermaid",
      "name": "mermaid"
     },
     {
      "aliases": [
       "powershell",
       "distinct"
      ],
      "languageName": "PowerShell",
      "name": "pwsh"
     },
     {
      "aliases": [
       "distinct"
      ],
      "languageName": "SQL",
      "name": "sql"
     },
     {
      "aliases": [
       "distinct"
      ],
      "name": "value"
     },
     {
      "aliases": [
       "frontend",
       "distinct"
      ],
      "name": "vscode"
     },
     {
      "aliases": [
       "js",
       "distinct"
      ],
      "languageName": "JavaScript",
      "name": "javascript"
     },
     {
      "aliases": [
       "distinct"
      ],
      "name": "webview"
     }
    ]
   }
  }
 },
 "nbformat": 4,
 "nbformat_minor": 2
}
