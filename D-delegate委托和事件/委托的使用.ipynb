{
 "cells": [
  {
   "attachments": {},
   "cell_type": "markdown",
   "metadata": {
    "dotnet_interactive": {
     "language": "csharp"
    },
    "polyglot_notebook": {
     "kernelName": "csharp"
    }
   },
   "source": [
    "# 委托的使用\n",
    "\n",
    "## 预先步骤---定义 `类`, `委托`"
   ]
  },
  {
   "attachments": {},
   "cell_type": "markdown",
   "metadata": {
    "dotnet_interactive": {
     "language": "csharp"
    },
    "polyglot_notebook": {
     "kernelName": "csharp"
    }
   },
   "source": [
    "1. 先定义一个 `Student` 类, 补充其 `Study`, `StudyAdvanced` 和 `Show` 方法"
   ]
  },
  {
   "cell_type": "code",
   "execution_count": 1,
   "metadata": {
    "dotnet_interactive": {
     "language": "csharp"
    },
    "polyglot_notebook": {
     "kernelName": "csharp"
    },
    "vscode": {
     "languageId": "polyglot-notebook"
    }
   },
   "outputs": [],
   "source": [
    "public class Student\n",
    "{\n",
    "    public required int Id { get; set; }\n",
    "    public required string Name { get; set; }\n",
    "    public int ClassId { get; set; }\n",
    "    public int Age { get; set; }\n",
    "\n",
    "    public void Study()\n",
    "    => System.Console.WriteLine(\"Studding\");\n",
    "\n",
    "    public static void StudyAdvanced()\n",
    "    => System.Console.WriteLine(\"Study Advanced\");\n",
    "\n",
    "\n",
    "    public static void Show()\n",
    "    => System.Console.WriteLine(\"Show\");\n",
    "}\n"
   ]
  },
  {
   "attachments": {},
   "cell_type": "markdown",
   "metadata": {
    "dotnet_interactive": {
     "language": "csharp"
    },
    "polyglot_notebook": {
     "kernelName": "csharp"
    }
   },
   "source": [
    "2. 定义委托"
   ]
  },
  {
   "cell_type": "code",
   "execution_count": 3,
   "metadata": {
    "dotnet_interactive": {
     "language": "csharp"
    },
    "polyglot_notebook": {
     "kernelName": "csharp"
    },
    "vscode": {
     "languageId": "polyglot-notebook"
    }
   },
   "outputs": [],
   "source": [
    "// [**`delegate` 本质上是一个类**](#delegate-解析).\n",
    "// 所以,  委托属于 \"一等公民\"，即可以像类一样直接在命名空间里面直接定义。\n",
    "public delegate void DelegateMessage(string message);\n",
    "\n",
    "/// <summary>\n",
    "/// 无参数和返回值的委托\n",
    "/// </summary>\n",
    "public delegate void NoReturnNoParams();"
   ]
  },
  {
   "attachments": {},
   "cell_type": "markdown",
   "metadata": {
    "dotnet_interactive": {
     "language": "csharp"
    },
    "polyglot_notebook": {
     "kernelName": "csharp"
    }
   },
   "source": [
    "## 对比普通类和委托的使用"
   ]
  },
  {
   "cell_type": "code",
   "execution_count": 6,
   "metadata": {
    "dotnet_interactive": {
     "language": "csharp"
    },
    "polyglot_notebook": {
     "kernelName": "csharp"
    },
    "vscode": {
     "languageId": "polyglot-notebook"
    }
   },
   "outputs": [],
   "source": [
    "public class MyDelegateClass\n",
    "{\n",
    "    public void Show()\n",
    "    {\n",
    "        #region 类的实例化\n",
    "        // 类可以实例化并进行方法调用\n",
    "        Student student =\n",
    "        new() { Id = 1, Name = \"student1\", Age = 18, ClassId = 1 };\n",
    "        student.Study();\n",
    "        #endregion\n",
    "\n",
    "        #region 委托的实例化\n",
    "        // 即使定义的 delegate 是无参数的, 但是也需要添加参数\n",
    "        NoReturnNoParams method = new NoReturnNoParams(this.DoNoting);\n",
    "        // 实例化后可调用 Invoke, BeginInvoke, EndInvoke\n",
    "        // 使用 method.Invoke(); 和 method() 的效果是相等的。两者并无区别\n",
    "        method.Invoke();\n",
    "        method();\n",
    "        // method.BeginInvoke();\n",
    "        // method.EndInvoke();\n",
    "        #endregion\n",
    "    }\n",
    "    private void DoNoting() => Console.WriteLine($\"this is nothing\");\n",
    "}"
   ]
  },
  {
   "attachments": {},
   "cell_type": "markdown",
   "metadata": {
    "dotnet_interactive": {
     "language": "csharp"
    },
    "polyglot_notebook": {
     "kernelName": "csharp"
    }
   },
   "source": [
    "### 解析\n",
    "\n",
    "可以查看到, 即使 `NoReturnNoParams` 是个**无参数**, **无返回值**的委托. \n",
    "\n",
    "但是在实例化时, 我们也还是需要添加一个返回值为 void 的函数.\n",
    "\n",
    "```csharp\n",
    "NoReturnNoParams method = new NoReturnNoParams(this.DoNoting);\n",
    "```\n",
    "\n",
    "其原因于 `NoReturnNoParams` IL 代码中可查看, **`NoReturnNoParams` 的构造函数本质上还是有参数的**.\n",
    "\n",
    "### `NoReturnNoParams` IL 代码\n",
    "\n",
    "![委托参数1](./imgs/%E5%A7%94%E6%89%98%E5%8F%82%E6%95%B01.png)\n",
    "\n",
    "### 委托实例的调用\n",
    "\n",
    "实例化后可调用 `Invoke`, `BeginInvoke`, `EndInvoke` 方法。\n",
    "\n",
    "这三个方法于 IL 代码中定义. 可以理解为, `delegate` 实际上是类的语法糖.\n",
    "\n",
    "想要调用委托指向的方法可以使用 `method.Invoke()` 和 `method()` 两种方式. 他们的效果是相等的, 二者并无区别.\n"
   ]
  }
 ],
 "metadata": {
  "kernelspec": {
   "display_name": ".NET (C#)",
   "language": "C#",
   "name": ".net-csharp"
  },
  "polyglot_notebook": {
   "kernelInfo": {
    "defaultKernelName": "csharp",
    "items": [
     {
      "aliases": [
       "c#",
       "C#",
       "distinct"
      ],
      "languageName": "C#",
      "name": "csharp"
     },
     {
      "aliases": [
       "frontend"
      ],
      "languageName": null,
      "name": "vscode"
     },
     {
      "aliases": [
       "distinct"
      ],
      "name": ".NET"
     },
     {
      "aliases": [
       "f#",
       "F#",
       "distinct"
      ],
      "languageName": "F#",
      "name": "fsharp"
     },
     {
      "aliases": [
       "distinct"
      ],
      "languageName": "HTML",
      "name": "html"
     },
     {
      "aliases": [
       "distinct"
      ],
      "languageName": "KQL",
      "name": "kql"
     },
     {
      "aliases": [
       "distinct"
      ],
      "languageName": "Mermaid",
      "name": "mermaid"
     },
     {
      "aliases": [
       "powershell",
       "distinct"
      ],
      "languageName": "PowerShell",
      "name": "pwsh"
     },
     {
      "aliases": [
       "distinct"
      ],
      "languageName": "SQL",
      "name": "sql"
     },
     {
      "aliases": [
       "distinct"
      ],
      "name": "value"
     }
    ]
   }
  }
 },
 "nbformat": 4,
 "nbformat_minor": 2
}
